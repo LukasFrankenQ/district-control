{
 "cells": [
  {
   "cell_type": "markdown",
   "metadata": {},
   "source": [
    "## Simple Network Example\n",
    "\n",
    "This notebook demonstrates the basic functionality of the repository: The demand of a load has to be met over time, given imperfect predictions of demand and renewable generation."
   ]
  },
  {
   "cell_type": "code",
   "execution_count": null,
   "metadata": {},
   "outputs": [],
   "source": [
    "import numpy as np\n",
    "import pandas as pd\n",
    "import pypsa\n",
    "import matplotlib.pyplot as plt\n",
    "plt.style.use('bmh')\n",
    "import os\n",
    "\n",
    "os.chdir(os.path.join(os.getcwd(), '..', 'src'))\n",
    "from mpc import Controller"
   ]
  },
  {
   "cell_type": "markdown",
   "metadata": {},
   "source": [
    "First, create a network with a load, a dispatchable but expensive and a non-dispatchable but cheap generation unit."
   ]
  },
  {
   "cell_type": "code",
   "execution_count": null,
   "metadata": {},
   "outputs": [],
   "source": [
    "def make_small_network():\n",
    "    '''\n",
    "    creates 3 bus network:\n",
    "    house (predicted demand)\n",
    "    wind farm (predicted supply)\n",
    "    plant (fixed high price)\n",
    "    '''\n",
    "\n",
    "    network = pypsa.Network()\n",
    "\n",
    "    network.add('Bus', 'bus0')\n",
    "    network.add('Bus', 'bus1')\n",
    "    network.add('Bus', 'bus2')\n",
    "\n",
    "    # network.add('Load', 'house', bus='bus0', p_nom=1, p_set=pd.Series(0.5*np.ones(len(snapshots))))\n",
    "    \n",
    "    network.add('Load', 'house', bus='bus0', p_set=0.5)\n",
    "    network.add('Generator', 'pv', bus='bus1', p_nom=1.,\n",
    "                        ramp_limit_up=0.2, ramp_limit_down=0.2, marginal_cost=0.)\n",
    "    network.add('Generator', 'plant', bus='bus2', p_nom=1., marginal_cost=1.,\n",
    "                        ramp_limit_up=0.2, ramp_limit_down=0.2)\n",
    "\n",
    "    network.add('Link', 'pv link', bus0='bus1', bus1='bus0',\n",
    "                efficiency=1., p_nom=1)\n",
    "    network.add('Link', 'plant link', bus0='bus2', bus1='bus0',\n",
    "                efficiency=1., p_nom=1)\n",
    "\n",
    "    return network\n"
   ]
  },
  {
   "cell_type": "markdown",
   "metadata": {},
   "source": [
    "Define the parameters of the optimization"
   ]
  },
  {
   "cell_type": "code",
   "execution_count": null,
   "metadata": {},
   "outputs": [],
   "source": [
    "t_steps = 48\n",
    "total_snapshots = pd.date_range('2020-01-01', '2020-02-01', freq='30min')[:t_steps]\n",
    "horizon = 13"
   ]
  },
  {
   "cell_type": "markdown",
   "metadata": {},
   "source": [
    "Setup the config of the predictions:\n",
    "\n",
    "For each prediction a Prophet-object will be instantiated. In this example, they are not real machine learning models but read off data and add artificial noise.\n",
    "\n",
    "1. For the pv unit we predict __p_max_pu__. The respective data is in data/dummy/supply.csv\n",
    "2. The load is predicted as the __p_set__.\n",
    "3. The marginal price of generation is set as fixed"
   ]
  },
  {
   "cell_type": "code",
   "execution_count": null,
   "metadata": {},
   "outputs": [],
   "source": [
    "data_path = os.path.join(os.getcwd(), '..', 'data', 'dummy')\n",
    "\n",
    "prophets_config = {\n",
    "        'pv': [\n",
    "                {\n",
    "                'kind': 'p_max_pu', \n",
    "                'mode': 'read', \n",
    "                'noise_scale': 0.02,\n",
    "                'data': os.path.join(data_path, 'supply.csv')\n",
    "                },\n",
    "                ],\n",
    "        'house': [\n",
    "                {\n",
    "                'kind': 'p_set', \n",
    "                'mode': 'read',\n",
    "                'noise_scale': 0.005, \n",
    "                'data': os.path.join(data_path, 'demand.csv')\n",
    "                },\n",
    "                ],\n",
    "        'plant': [\n",
    "                {\n",
    "                'kind': 'marginal_cost',\n",
    "                'mode': 'fix',\n",
    "                'value': 1. \n",
    "                }\n",
    "                ]\n",
    "        }\n"
   ]
  },
  {
   "cell_type": "code",
   "execution_count": null,
   "metadata": {},
   "outputs": [],
   "source": [
    "init_values = {'pv': 0., 'plant': 0.5, 'house': 0.5}"
   ]
  },
  {
   "cell_type": "markdown",
   "metadata": {},
   "source": [
    "Define controller object"
   ]
  },
  {
   "cell_type": "code",
   "execution_count": null,
   "metadata": {},
   "outputs": [],
   "source": [
    "mpc = Controller(\n",
    "        make_small_network(),\n",
    "        total_snapshots,\n",
    "        prophets_config,\n",
    "        horizon,\n",
    "        init_values=init_values,\n",
    "        solver_name='gurobi' # or any solver installed on your machine\n",
    "        )"
   ]
  },
  {
   "cell_type": "markdown",
   "metadata": {},
   "source": [
    "Start control loop - Passing an axis object into the procedure creates plots of the result."
   ]
  },
  {
   "cell_type": "code",
   "execution_count": null,
   "metadata": {},
   "outputs": [],
   "source": [
    "_, ax= plt.subplots(1, 1, figsize=(16, 4))\n",
    "\n",
    "# plotting ground truth, from which the prophets are reading\n",
    "for _, prophet in mpc.prophets.items():\n",
    "    prophet.data.plot(ax=ax)\n",
    "    \n",
    "for time in range(t_steps - horizon - 1):\n",
    "    \n",
    "    print(f'Conducting optimization step at {time}.')\n",
    "\n",
    "    # Define the snapshots of the current iteration\n",
    "    snapshots = total_snapshots[time:time+horizon+1]\n",
    "\n",
    "    # Note that at the moment, we pass a network generating function\n",
    "    # instead of the network itself\n",
    "    mpc.mpc_step(make_small_network,\n",
    "                snapshots, \n",
    "                ax=ax)\n",
    "\n",
    "# plot the chosen controls\n",
    "mpc.controls_t[init_values].plot(ax=ax, linestyle=':')\n",
    "\n",
    "ax.set_ylabel('Power Flow')\n",
    "ax.set_xlabel('Time')\n",
    "\n",
    "plt.show()"
   ]
  },
  {
   "cell_type": "markdown",
   "metadata": {},
   "source": [
    "The thick lines represent the ground truth for demand and renewable generation, while the thin lines show the time series returned by the prophets and used in the individual optimization steps.\n",
    "\n",
    "The thick dotted lines are the controls chosen at each timestep. Note that the features at the start of the optimization are the result of initial conditions paired with limit on the production ramps. "
   ]
  }
 ],
 "metadata": {
  "interpreter": {
   "hash": "f9bef397ef5e7b2d367b3209d88d895d60e5cf9367d4dd0bd56847f579153646"
  },
  "kernelspec": {
   "display_name": "Python 3.8.0 64-bit",
   "language": "python",
   "name": "python3"
  },
  "language_info": {
   "codemirror_mode": {
    "name": "ipython",
    "version": 3
   },
   "file_extension": ".py",
   "mimetype": "text/x-python",
   "name": "python",
   "nbconvert_exporter": "python",
   "pygments_lexer": "ipython3",
   "version": "3.8.0"
  },
  "orig_nbformat": 4
 },
 "nbformat": 4,
 "nbformat_minor": 2
}
